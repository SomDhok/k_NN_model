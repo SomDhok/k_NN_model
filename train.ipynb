{
 "cells": [
  {
   "cell_type": "code",
   "execution_count": 2,
   "id": "67f59b14-ab77-4822-98ba-1d3d9e31ac62",
   "metadata": {},
   "outputs": [],
   "source": [
    "import pandas as pd\n",
    "from sklearn.preprocessing import MinMaxScaler\n",
    "from sklearn.neighbors import KNeighborsClassifier\n",
    "\n",
    "# Define paths (modify as needed)\n",
    "data_path = \"Social_Network_Ads.csv\"\n",
    "model_path = \"knn_model.sav\"  # Path to save the trained model\n",
    "\n",
    "# Load the dataset\n",
    "data = pd.read_csv(data_path)\n",
    "\n",
    "# Define features and target variable\n",
    "features = [\"Age\", \"EstimatedSalary\"]\n",
    "target = \"Purchased\"\n",
    "\n",
    "# Normalize features\n",
    "scaler = MinMaxScaler()\n",
    "data[features] = scaler.fit_transform(data[features])\n",
    "\n",
    "# Separate features and target\n",
    "X = data[features]\n",
    "y = data[target]\n",
    "\n",
    "# Create and train the KNN model\n",
    "knn = KNeighborsClassifier(n_neighbors=5)  # You can adjust the number of neighbors\n",
    "knn.fit(X, y)\n",
    "\n",
    "# Save the trained model\n",
    "import pickle\n",
    "with open(model_path, 'wb') as f:\n",
    "    pickle.dump(knn, f)"
   ]
  },
  {
   "cell_type": "code",
   "execution_count": null,
   "id": "d1a589cf-c4ab-48e2-9604-c3a731a9c709",
   "metadata": {},
   "outputs": [],
   "source": []
  },
  {
   "cell_type": "code",
   "execution_count": null,
   "id": "d615fcff-8183-4e81-879c-74d40578f785",
   "metadata": {},
   "outputs": [],
   "source": []
  }
 ],
 "metadata": {
  "kernelspec": {
   "display_name": "Python 3 (ipykernel)",
   "language": "python",
   "name": "python3"
  },
  "language_info": {
   "codemirror_mode": {
    "name": "ipython",
    "version": 3
   },
   "file_extension": ".py",
   "mimetype": "text/x-python",
   "name": "python",
   "nbconvert_exporter": "python",
   "pygments_lexer": "ipython3",
   "version": "3.12.2"
  }
 },
 "nbformat": 4,
 "nbformat_minor": 5
}
